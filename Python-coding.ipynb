{
 "cells": [
  {
   "cell_type": "markdown",
   "id": "dca2ef3a-6315-4921-9ea9-eeae6b35646d",
   "metadata": {},
   "source": [
    "***1.PYTHON CODE TO CHECK PRIME NUMBER OR NOT***\n"
   ]
  },
  {
   "cell_type": "code",
   "execution_count": 8,
   "id": "c98cff1d-b21e-4e6a-a895-e94a545db71c",
   "metadata": {},
   "outputs": [
    {
     "name": "stdin",
     "output_type": "stream",
     "text": [
      "Enter a Number 4\n"
     ]
    },
    {
     "name": "stdout",
     "output_type": "stream",
     "text": [
      "4 is Not a Prime Number\n"
     ]
    }
   ],
   "source": [
    "def check(a):\n",
    "    c=0\n",
    "    for i in range(2,a):\n",
    "        if(a%i==0):\n",
    "            c+=1\n",
    "            break\n",
    "    if(c>=1):\n",
    "        print(a,\"is Not a Prime Number\")\n",
    "    else:\n",
    "        print(a,\"is a Prime Number\")\n",
    "a=int(input(\"Enter a Number: \"))\n",
    "check(a)\n",
    "        "
   ]
  },
  {
   "cell_type": "markdown",
   "id": "5972d04f-ac8f-4190-b127-0a3e98ffef78",
   "metadata": {},
   "source": [
    "***2.PYTHON CODE TO CHECK PALINDROME OR NOT***\n"
   ]
  },
  {
   "cell_type": "code",
   "execution_count": 19,
   "id": "e9cb57f9-c5c5-4010-8761-6a0a2e5ba8e8",
   "metadata": {},
   "outputs": [
    {
     "name": "stdin",
     "output_type": "stream",
     "text": [
      "Enter the Input 121\n"
     ]
    },
    {
     "name": "stdout",
     "output_type": "stream",
     "text": [
      "121 is a Phalindrome Number\n"
     ]
    }
   ],
   "source": [
    "def check(a):\n",
    "    b=a\n",
    "    c=a[::-1]\n",
    "    if(c==b):\n",
    "        print(a,\"is a Phalindrome Number\")\n",
    "    else:\n",
    "        print(a,\"is not a Phalindrome Number\")\n",
    "a=input(\"Enter the Input: \")\n",
    "check(a)"
   ]
  },
  {
   "cell_type": "markdown",
   "id": "b7c9e44f-b986-4a07-9959-1f2bee04552e",
   "metadata": {},
   "source": [
    "***3.PYTHON CODE TO GENERATE FIBINOCCI SERIES***\n"
   ]
  },
  {
   "cell_type": "code",
   "execution_count": 37,
   "id": "95da5698-b965-4153-a43b-4eb1a29d19a4",
   "metadata": {},
   "outputs": [
    {
     "name": "stdin",
     "output_type": "stream",
     "text": [
      " 8\n"
     ]
    },
    {
     "name": "stdout",
     "output_type": "stream",
     "text": [
      "Fibinocci Series :  [0, 1, 1, 2, 3, 5, 8, 13]\n"
     ]
    }
   ],
   "source": [
    "def generate(a):\n",
    "    l=[0,1]\n",
    "    b=0\n",
    "    c=1\n",
    "    while(len(l)<a):\n",
    "        d=b+c\n",
    "        l.append(d)\n",
    "        b=c\n",
    "        c=d\n",
    "    print(\"Fibinocci Series : \",end=\" \")\n",
    "    print(l)\n",
    "a=int(input(\"Enter a Value: \"))\n",
    "generate(a)\n",
    "    \n",
    "        \n",
    "    "
   ]
  },
  {
   "cell_type": "markdown",
   "id": "075d32af-aed1-41a1-a892-2d309143cec1",
   "metadata": {},
   "source": [
    "***4.PYTHON CODE TO REMOVE REPEATING ELEMENT IN A STRING***\n"
   ]
  },
  {
   "cell_type": "code",
   "execution_count": 44,
   "id": "d853e0f8-6c55-481c-af84-e7f4ba7028fd",
   "metadata": {},
   "outputs": [
    {
     "name": "stdin",
     "output_type": "stream",
     "text": [
      "Enter a String:  madam\n"
     ]
    },
    {
     "name": "stdout",
     "output_type": "stream",
     "text": [
      "mad\n"
     ]
    }
   ],
   "source": [
    "def remove(a):\n",
    "    l=[]\n",
    "    for i in range(len(a)):\n",
    "        if a[i] not in l:\n",
    "            l.append(a[i])\n",
    "    print(''.join(l))\n",
    "a=input(\"Enter a String: \")\n",
    "remove(a)"
   ]
  },
  {
   "cell_type": "markdown",
   "id": "abb60a2d-7940-45fa-a993-d7846be74394",
   "metadata": {},
   "source": [
    "***5.PYTHON CODE TO RETURN FIRST NON-REPEATING ELEMENT***"
   ]
  },
  {
   "cell_type": "code",
   "execution_count": 56,
   "id": "88d63717-6978-41ff-8579-4a7cae83f534",
   "metadata": {},
   "outputs": [
    {
     "name": "stdin",
     "output_type": "stream",
     "text": [
      "Enter a Input:  llumahal\n"
     ]
    },
    {
     "name": "stdout",
     "output_type": "stream",
     "text": [
      "First Non-repeating character:  u\n"
     ]
    }
   ],
   "source": [
    "def out(a):\n",
    "    for i in range(len(a)):\n",
    "        b=a[i+1:]\n",
    "        if a[i] not in b:\n",
    "            print(\"First Non-repeating character: \",a[i])\n",
    "            break\n",
    "a=input(\"Enter a Input: \")\n",
    "out(a)"
   ]
  },
  {
   "cell_type": "markdown",
   "id": "cf2107cf-46f3-4f47-b92e-2dce61155b49",
   "metadata": {},
   "source": [
    "***6.Write a Python program to count the frequency of each element in a list***"
   ]
  },
  {
   "cell_type": "code",
   "execution_count": 84,
   "id": "23dffda8-65d9-4461-84d2-ee8de91c766a",
   "metadata": {},
   "outputs": [
    {
     "name": "stdin",
     "output_type": "stream",
     "text": [
      " 1,2,3,4,3,2,5\n"
     ]
    },
    {
     "name": "stdout",
     "output_type": "stream",
     "text": [
      "count of 1 is 1\n",
      "count of 2 is 2\n",
      "count of 3 is 2\n",
      "count of 4 is 1\n",
      "count of 3 is 2\n",
      "count of 2 is 2\n",
      "count of 5 is 1\n"
     ]
    }
   ],
   "source": [
    "l=list(map(int,input().split(\",\")))\n",
    "for i in l:\n",
    "    print(\"count of\",i,\"is\",l.count(i))\n",
    "    \n"
   ]
  },
  {
   "cell_type": "markdown",
   "id": "1bbbabe5-3c99-491e-8842-fcd3ff2ce1d4",
   "metadata": {},
   "source": [
    "***7.Write a Python program to find the common elements between two lists***\n"
   ]
  },
  {
   "cell_type": "code",
   "execution_count": 7,
   "id": "6ca5ed62-51ab-4d30-bc94-9595d395fa9e",
   "metadata": {},
   "outputs": [
    {
     "name": "stdin",
     "output_type": "stream",
     "text": [
      "enter the values 1,2,3,4,5\n",
      "enter the values 3,2,4,5,6\n"
     ]
    },
    {
     "name": "stdout",
     "output_type": "stream",
     "text": [
      "[2, 3, 4, 5]\n"
     ]
    }
   ],
   "source": [
    "l1=list(map(int,input(\"enter the values\").split(\",\")))\n",
    "l2=list(map(int,input(\"enter the values\").split(\",\")))\n",
    "l3=[]\n",
    "for i in l1:\n",
    "    if i in l2:\n",
    "        l3.append(i)\n",
    "print(l3)        "
   ]
  },
  {
   "cell_type": "markdown",
   "id": "12b865d2-b488-4381-9e4d-9243ba282559",
   "metadata": {},
   "source": [
    "***8.Write a Python program to find the second largest number in a list***"
   ]
  },
  {
   "cell_type": "code",
   "execution_count": 24,
   "id": "165095ec-e2df-4a91-bc32-aaea232b8cf3",
   "metadata": {},
   "outputs": [
    {
     "name": "stdin",
     "output_type": "stream",
     "text": [
      " 2,3,4,5,6\n"
     ]
    },
    {
     "name": "stdout",
     "output_type": "stream",
     "text": [
      "5\n"
     ]
    }
   ],
   "source": [
    "l=list(map(int,input().split(\",\")))\n",
    "l.sort()\n",
    "print(l[len(l)-2])\n",
    "      "
   ]
  },
  {
   "cell_type": "markdown",
   "id": "8091e733-b5fd-42a8-8e4c-88de815b425b",
   "metadata": {},
   "source": [
    "***9.Write a Python program to remove duplicates from a list***\n"
   ]
  },
  {
   "cell_type": "code",
   "execution_count": 27,
   "id": "f14bf224-06aa-4ab4-bd53-3b5ef43f7fee",
   "metadata": {},
   "outputs": [
    {
     "name": "stdin",
     "output_type": "stream",
     "text": [
      " 1,2,3,4,5,5,6,6,7,3,2\n"
     ]
    },
    {
     "name": "stdout",
     "output_type": "stream",
     "text": [
      "[1, 2, 3, 4, 5, 6, 7]\n"
     ]
    }
   ],
   "source": [
    "l=list(map(int,input().split(\",\")))\n",
    "l2=[]\n",
    "for i in l:\n",
    "    if i not in l2:\n",
    "        l2.append(i)\n",
    "print(l2)        "
   ]
  },
  {
   "cell_type": "markdown",
   "id": "88cd3f4d-960b-4e1b-966a-a55eb5738343",
   "metadata": {},
   "source": [
    "***10.Write a python program to Counting Vowels in Word***"
   ]
  },
  {
   "cell_type": "code",
   "execution_count": 32,
   "id": "5240f29d-bb52-476b-990e-df00a850887a",
   "metadata": {},
   "outputs": [
    {
     "name": "stdin",
     "output_type": "stream",
     "text": [
      " janaganamana\n"
     ]
    },
    {
     "name": "stdout",
     "output_type": "stream",
     "text": [
      "6\n"
     ]
    }
   ],
   "source": [
    "a=input()\n",
    "b=['a','e','i','o','u']\n",
    "c=0\n",
    "for i in a:\n",
    "    if i.lower() in b:\n",
    "        c+=1\n",
    "print(c)        \n",
    "        "
   ]
  },
  {
   "cell_type": "markdown",
   "id": "aa963d25-c07b-4e3b-a668-16e14cbfc41b",
   "metadata": {},
   "source": [
    "***11.Write a python program to Find the Maximum Number  and Minimun number in a List***\n"
   ]
  },
  {
   "cell_type": "code",
   "execution_count": 38,
   "id": "f9aeac46-8d83-4d71-884d-fc8805bba2a4",
   "metadata": {},
   "outputs": [
    {
     "name": "stdin",
     "output_type": "stream",
     "text": [
      " 1,2,3,4,5,6\n"
     ]
    },
    {
     "name": "stdout",
     "output_type": "stream",
     "text": [
      "Maximum number:  6\n",
      "Minimum Number:  1\n"
     ]
    }
   ],
   "source": [
    "l=list(map(int,input().split(\",\")))\n",
    "a=max(l)\n",
    "b=min(l)\n",
    "print(\"Maximum number: \",a)\n",
    "print(\"Minimum Number: \",b)"
   ]
  },
  {
   "cell_type": "markdown",
   "id": "753bd540-d283-4110-8714-2f2aa5fbd3e7",
   "metadata": {},
   "source": [
    "***12.Python program to copy one string to another string***\n"
   ]
  },
  {
   "cell_type": "code",
   "execution_count": 100,
   "id": "9c137dcf-45db-43a5-bded-f41fe4fd18bd",
   "metadata": {},
   "outputs": [
    {
     "name": "stdin",
     "output_type": "stream",
     "text": [
      "enter the String Ganesh\n"
     ]
    },
    {
     "name": "stdout",
     "output_type": "stream",
     "text": [
      "Ganesh\n"
     ]
    }
   ],
   "source": [
    "a=input(\"enter the String\")\n",
    "b=a\n",
    "print(b)\n"
   ]
  },
  {
   "cell_type": "markdown",
   "id": "04dd140e-83a4-4d53-8a7b-cc60d73e90e8",
   "metadata": {},
   "source": [
    "***13.Python Program to sort characters of string in ascending order***"
   ]
  },
  {
   "cell_type": "code",
   "execution_count": 58,
   "id": "c70bdbaa-aad5-4c40-9f95-772eaceaa130",
   "metadata": {},
   "outputs": [
    {
     "name": "stdin",
     "output_type": "stream",
     "text": [
      "enter a string:  ganesh\n"
     ]
    },
    {
     "name": "stdout",
     "output_type": "stream",
     "text": [
      "aeghns\n"
     ]
    }
   ],
   "source": [
    "a=input(\"enter a string: \")\n",
    "b=list(a)\n",
    "b.sort()\n",
    "print(''.join(b))"
   ]
  },
  {
   "cell_type": "markdown",
   "id": "a187fe54-2133-49a2-b4b2-3aab65261966",
   "metadata": {},
   "source": [
    "***14.Python Program to sort character of string in descending order***"
   ]
  },
  {
   "cell_type": "code",
   "execution_count": 60,
   "id": "f936f921-df22-49ea-87fa-1a64f36f1832",
   "metadata": {},
   "outputs": [
    {
     "name": "stdin",
     "output_type": "stream",
     "text": [
      "enter a string:  ganesh\n"
     ]
    },
    {
     "name": "stdout",
     "output_type": "stream",
     "text": [
      "snhgea\n"
     ]
    }
   ],
   "source": [
    "a=input(\"enter a string: \")\n",
    "b=list(a)\n",
    "b.sort(reverse=True)\n",
    "print(''.join(b))"
   ]
  },
  {
   "cell_type": "markdown",
   "id": "0bd52ead-afcb-4c11-9433-0512add439ce",
   "metadata": {},
   "source": [
    "***15.Write a program in Python to swap two numbers without using third variable***"
   ]
  },
  {
   "cell_type": "code",
   "execution_count": 63,
   "id": "0905162f-73e3-48dd-93bc-121c42c65c37",
   "metadata": {},
   "outputs": [
    {
     "name": "stdin",
     "output_type": "stream",
     "text": [
      " 12\n",
      " 13\n"
     ]
    },
    {
     "name": "stdout",
     "output_type": "stream",
     "text": [
      "After Swap\n",
      "A=  13\n",
      "B=  12\n"
     ]
    }
   ],
   "source": [
    "a=int(input())\n",
    "b=int(input())\n",
    "a=a+b\n",
    "b=a-b\n",
    "a=a-b\n",
    "print(\"After Swap\")\n",
    "print(\"A= \",a)\n",
    "print(\"B= \",b)"
   ]
  },
  {
   "cell_type": "markdown",
   "id": "ca22c897-eb6e-4da7-8f1d-a848116d5f3f",
   "metadata": {},
   "source": [
    "***16.Write a program in Python to swap two numbers with using third variable***"
   ]
  },
  {
   "cell_type": "code",
   "execution_count": 68,
   "id": "7d0916ce-90bb-4d98-ace2-c598bb5d795c",
   "metadata": {},
   "outputs": [
    {
     "name": "stdin",
     "output_type": "stream",
     "text": [
      " 12\n",
      " 13\n"
     ]
    },
    {
     "name": "stdout",
     "output_type": "stream",
     "text": [
      "After Swap\n",
      "A=  13\n",
      "B=  12\n"
     ]
    }
   ],
   "source": [
    "a=int(input())\n",
    "b=int(input())\n",
    "c=a\n",
    "a=b\n",
    "b=c\n",
    "print(\"After Swap\")\n",
    "print(\"A= \",a)\n",
    "print(\"B= \",b)"
   ]
  },
  {
   "cell_type": "markdown",
   "id": "e236e8ca-f061-4abc-86be-306afb37b952",
   "metadata": {},
   "source": [
    "***17.Write a Python program to find the factorial of a number***"
   ]
  },
  {
   "cell_type": "code",
   "execution_count": 73,
   "id": "bcc1275f-c47f-4f36-aefe-4079696c6d2b",
   "metadata": {},
   "outputs": [
    {
     "name": "stdin",
     "output_type": "stream",
     "text": [
      " 5\n"
     ]
    },
    {
     "name": "stdout",
     "output_type": "stream",
     "text": [
      "Factorial of 5 is 120\n"
     ]
    }
   ],
   "source": [
    "a=int(input())\n",
    "f=1\n",
    "for i in range(1,a+1):\n",
    "    f=f*i\n",
    "print(\"Factorial of\",a,\"is\",f)    \n",
    "    \n",
    "    "
   ]
  },
  {
   "cell_type": "markdown",
   "id": "efe678b5-afc5-4e3a-81a6-1d9802797925",
   "metadata": {},
   "source": [
    "***18.Write a Python program to reverse a string.***"
   ]
  },
  {
   "cell_type": "code",
   "execution_count": 78,
   "id": "3904b4a8-125b-4ac1-86aa-5ee70f173866",
   "metadata": {},
   "outputs": [
    {
     "name": "stdin",
     "output_type": "stream",
     "text": [
      " Ganesh\n"
     ]
    },
    {
     "name": "stdout",
     "output_type": "stream",
     "text": [
      "Reverse String:  hsenaG\n"
     ]
    }
   ],
   "source": [
    "a=input()\n",
    "b=a[::-1]\n",
    "print(\"Reverse String: \",b)\n"
   ]
  },
  {
   "cell_type": "markdown",
   "id": "ecf2ed3b-0573-404a-b2c7-a37b03ebea39",
   "metadata": {},
   "source": [
    "***19.Write a python Program to Count the Number of Occurrences of a Character in a String***"
   ]
  },
  {
   "cell_type": "code",
   "execution_count": 91,
   "id": "9e6347f4-f27a-459c-b265-8f107e154283",
   "metadata": {},
   "outputs": [
    {
     "name": "stdin",
     "output_type": "stream",
     "text": [
      "Enter a String:  lulumal\n"
     ]
    },
    {
     "name": "stdout",
     "output_type": "stream",
     "text": [
      "Count of l is 3\n",
      "Count of u is 2\n",
      "Count of l is 3\n",
      "Count of u is 2\n",
      "Count of m is 1\n",
      "Count of a is 1\n",
      "Count of l is 3\n"
     ]
    }
   ],
   "source": [
    "a=input(\"Enter a String: \")\n",
    "for i in a:\n",
    "    print(\"Count of\",i,\"is\",a.count(i))"
   ]
  },
  {
   "cell_type": "markdown",
   "id": "2cce51f6-4713-4af6-bf24-d991ee536149",
   "metadata": {},
   "source": [
    "***20.Python program to calculate LCM of given two numbers***"
   ]
  },
  {
   "cell_type": "code",
   "execution_count": 112,
   "id": "272373d6-5023-4e36-8627-0a5115830215",
   "metadata": {},
   "outputs": [
    {
     "name": "stdin",
     "output_type": "stream",
     "text": [
      "Enter the Value:  3\n",
      "Enter the Value:  9\n"
     ]
    },
    {
     "name": "stdout",
     "output_type": "stream",
     "text": [
      "LCM of 3 and 9 = 9\n"
     ]
    }
   ],
   "source": [
    "a=int(input(\"Enter the Value: \"))\n",
    "b=int(input(\"Enter the Value: \"))\n",
    "if a%b==0 or b%a==0:\n",
    "    if(a>b):\n",
    "        c=(a*b)//b\n",
    "    else:\n",
    "        c=(a*b)//a\n",
    "else:\n",
    "    c=a*b\n",
    "print(\"LCM of\",a,\"and\",b,\"=\",c)    "
   ]
  },
  {
   "cell_type": "markdown",
   "id": "a508a2ec-eae4-41b2-a14f-b8c669a180e9",
   "metadata": {},
   "source": [
    "***21.Python Program to calculate the square of a given number***\n"
   ]
  },
  {
   "cell_type": "code",
   "execution_count": 119,
   "id": "3031f0c5-6d1a-404c-ac83-2cde3808f5e9",
   "metadata": {},
   "outputs": [
    {
     "name": "stdin",
     "output_type": "stream",
     "text": [
      "Enter a Value: 2\n"
     ]
    },
    {
     "name": "stdout",
     "output_type": "stream",
     "text": [
      "Square of 2 is 4\n"
     ]
    }
   ],
   "source": [
    "a=int(input(\"Enter a Value:\"))\n",
    "b=pow(a,2)\n",
    "print(\"Square of\",a,\"is\",b)"
   ]
  },
  {
   "cell_type": "markdown",
   "id": "ab38aa11-7f4e-4021-be67-19ae7626e18d",
   "metadata": {},
   "source": [
    "***22.Python Program to find smallest number among three***"
   ]
  },
  {
   "cell_type": "code",
   "execution_count": 126,
   "id": "fceba3ff-635e-49cb-844d-30d603c3587b",
   "metadata": {},
   "outputs": [
    {
     "name": "stdin",
     "output_type": "stream",
     "text": [
      " 2\n",
      " 3\n",
      " 4\n"
     ]
    },
    {
     "name": "stdout",
     "output_type": "stream",
     "text": [
      "2\n"
     ]
    }
   ],
   "source": [
    "a=int(input())\n",
    "b=int(input())\n",
    "c=int(input())\n",
    "l=[a,b,c]\n",
    "print(min(l))"
   ]
  },
  {
   "cell_type": "markdown",
   "id": "6a4200bf-6b2b-4339-958e-e552b0d41422",
   "metadata": {},
   "source": [
    "## "
   ]
  }
 ],
 "metadata": {
  "kernelspec": {
   "display_name": "Python 3 (ipykernel)",
   "language": "python",
   "name": "python3"
  },
  "language_info": {
   "codemirror_mode": {
    "name": "ipython",
    "version": 3
   },
   "file_extension": ".py",
   "mimetype": "text/x-python",
   "name": "python",
   "nbconvert_exporter": "python",
   "pygments_lexer": "ipython3",
   "version": "3.11.7"
  }
 },
 "nbformat": 4,
 "nbformat_minor": 5
}
